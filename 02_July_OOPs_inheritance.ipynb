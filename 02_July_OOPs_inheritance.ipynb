{
 "cells": [
  {
   "cell_type": "markdown",
   "id": "9b8dddfb",
   "metadata": {},
   "source": [
    "1) Explain what inheritance is in object-oriented programming and why it is used"
   ]
  },
  {
   "cell_type": "markdown",
   "id": "d4093519",
   "metadata": {},
   "source": [
    "Inheritance is the capability of one class to derive or inherit the properties from another class. \n",
    "It is used because of below benefits:\n",
    "It represents real-world relationships well.\n",
    "It provides the reusability of a code. \n",
    "Less development and maintenance expenses result from an inheritance."
   ]
  },
  {
   "cell_type": "markdown",
   "id": "ab4b6b4f",
   "metadata": {},
   "source": [
    "2) Discuss the concept of single inheritance and multiple inheritance, highlighting their\n",
    "differences and advantages."
   ]
  },
  {
   "cell_type": "markdown",
   "id": "1adc5b09",
   "metadata": {},
   "source": [
    "<li>Single inheritance: When a child class inherits from only one parent class, it is called single inheritance.\n",
    "<li>Multiple inheritances: When a child class inherits from multiple parent classes, it is called multiple inheritances.\n",
    "Difference between single and multiple inheritance:\n",
    "<li>In single inheritance,the derived class inherits from single base class and uses the features or members of the single base class.</li>\n",
    "<li>Single inheritance requires a small run time.</li>\n",
    "<li>In multiple inheritance,derived class acquires two or more base classes and is allowed to use the joint features of the multiple base classes.</li>\n",
    "<li>While multiple inheritance requires more run time as compared to single inheritance due to more overhead.</li>\n",
    "Advantages:\n",
    "<li>Single inheritance can be used for real world instances like a child inherits features from their parents in such cases we will have only one base and one derived class.</li>\n",
    "<li>In Multiple inheritance a bat derives features from 2 base classes like mammals and winged animals.</li>"
   ]
  },
  {
   "cell_type": "markdown",
   "id": "742786c5",
   "metadata": {},
   "source": [
    "3) Explain the terms \"base class\" and \"derived class\" in the context of inheritance.\n"
   ]
  },
  {
   "cell_type": "markdown",
   "id": "469e22a5",
   "metadata": {},
   "source": [
    "<li>Base Class can be defined as the main class whose features i.e. attributes and methods will be inherited by the derived class.\n",
    "<li>Derived class is a class which inherits from base class.       "
   ]
  },
  {
   "cell_type": "code",
   "execution_count": 11,
   "id": "481c0f31",
   "metadata": {},
   "outputs": [],
   "source": [
    "#Eg:Below code snippet shows Emp as the base class and Manager as the derived class\n",
    "class Emp:\n",
    "    def __init__(self):\n",
    "        self.name=\"Arun\"\n",
    "        self.age=30\n",
    "\n",
    "class Manager(Emp):\n",
    "    def __init__(self):\n",
    "        Emp.__init__(self)\n",
    "        print(self.name)\n",
    "        print(self.age)\n"
   ]
  },
  {
   "cell_type": "code",
   "execution_count": 12,
   "id": "4229e704",
   "metadata": {},
   "outputs": [
    {
     "name": "stdout",
     "output_type": "stream",
     "text": [
      "Arun\n",
      "30\n"
     ]
    }
   ],
   "source": [
    "m=Manager()"
   ]
  },
  {
   "cell_type": "markdown",
   "id": "e9fea68d",
   "metadata": {},
   "source": [
    "4. What is the significance of the \"protected\" access modifier in inheritance? How does\n",
    "it differ from \"private\" and \"public\" modifiers?\n"
   ]
  },
  {
   "cell_type": "markdown",
   "id": "76df0dbc",
   "metadata": {},
   "source": [
    "The members of a class that are declared protected are only accessible to a class derived from it. Data members of a class are declared protected by adding a single underscore ‘_’ symbol before the data member of that class.\n",
    "<li>members of class with private modifiers are not accessed outside the class.\n",
    "<li>members of class with public modifiers can be accessed from any part of the program. By default all members of a class are public.     "
   ]
  },
  {
   "cell_type": "markdown",
   "id": "71b9f8ba",
   "metadata": {},
   "source": [
    "5.What is the purpose of the \"super\" keyword in inheritance? Provide an example."
   ]
  },
  {
   "cell_type": "markdown",
   "id": "d8699af0",
   "metadata": {},
   "source": [
    "<li>The super keyword is used to refer to the parent class or superclass. It allows to call methods defined in the superclass from the subclass, enabling you to extend and customize the functionality inherited from the parent class."
   ]
  },
  {
   "cell_type": "code",
   "execution_count": 18,
   "id": "de186a02",
   "metadata": {},
   "outputs": [],
   "source": [
    "#Below code snippet uses super keyword in class Manager which inherits from base class\n",
    "class Emp:\n",
    "    def __init__(self):\n",
    "        self.name=\"Arun\"\n",
    "        self.age=30\n",
    "\n",
    "class Manager(Emp):\n",
    "    def __init__(self):\n",
    "        super().__init__()\n",
    "        print(self.name)\n",
    "        print(self.age)"
   ]
  },
  {
   "cell_type": "code",
   "execution_count": 17,
   "id": "3e89385e",
   "metadata": {},
   "outputs": [
    {
     "name": "stdout",
     "output_type": "stream",
     "text": [
      "Arun\n",
      "30\n"
     ]
    }
   ],
   "source": [
    "m=Manager()"
   ]
  },
  {
   "cell_type": "markdown",
   "id": "27d251eb",
   "metadata": {},
   "source": [
    "6. Create a base class called \"Vehicle\" with attributes like \"make\", \"model\", and \"year\".\n",
    "Then, create a derived class called \"Car\" that inherits from \"Vehicle\" and adds an\n",
    "attribute called \"fuel_type\". Implement appropriate methods in both classes.\n"
   ]
  },
  {
   "cell_type": "code",
   "execution_count": 36,
   "id": "bfeec32b",
   "metadata": {},
   "outputs": [],
   "source": [
    "class Vehicle:\n",
    "    def __init__(self,make,model,year):\n",
    "        self.make=make\n",
    "        self.model=model\n",
    "        self.year=year\n",
    "        \n",
    "    def display(self):\n",
    "        print(f\"Vehicle details: {self.make},{self.model},{self.year}\")\n",
    "        \n",
    "class Car(Vehicle):\n",
    "    def __init__(self,make,model,year,fuel_type):\n",
    "        super().__init__(make,model,year) \n",
    "        self.fuel_type=fuel_type\n",
    "\n",
    "    def car_display(self):\n",
    "        print(f\"Car details: {self.make},{self.model},{self.year},{self.fuel_type}\")"
   ]
  },
  {
   "cell_type": "code",
   "execution_count": 37,
   "id": "efe5fdc7",
   "metadata": {},
   "outputs": [
    {
     "name": "stdout",
     "output_type": "stream",
     "text": [
      "Vehicle details: Audi,9876,1980\n"
     ]
    }
   ],
   "source": [
    "v1=Vehicle(\"Audi\",9876,1980)\n",
    "v1.display()"
   ]
  },
  {
   "cell_type": "code",
   "execution_count": 38,
   "id": "46b7bc9e",
   "metadata": {},
   "outputs": [
    {
     "name": "stdout",
     "output_type": "stream",
     "text": [
      "Car details: BMW,9876,1988,petrol\n"
     ]
    }
   ],
   "source": [
    "c=Car(\"BMW\",9876,1988,\"petrol\")\n",
    "c.car_display()"
   ]
  },
  {
   "cell_type": "markdown",
   "id": "680816aa",
   "metadata": {},
   "source": [
    "7. Create a base class called \"Employee\" with attributes like \"name\" and \"salary.\"\n",
    "Derive two classes, \"Manager\" and \"Developer,\" from \"Employee.\" Add an additional\n",
    "attribute called \"department\" for the \"Manager\" class and \"programming_language\"\n",
    "for the \"Developer\" class"
   ]
  },
  {
   "cell_type": "code",
   "execution_count": 39,
   "id": "796dbf93",
   "metadata": {},
   "outputs": [],
   "source": [
    "class Employee:\n",
    "    def __init__(self,name,salary):\n",
    "        self.name=name\n",
    "        self.salary=salary        \n",
    "        \n",
    "class Manager(Employee):            \n",
    "    def __init__(self,name,salary,department):\n",
    "        super().__init__(name,salary)\n",
    "        self.department=department\n",
    "\n",
    "        \n",
    "class Developer(Employee):            \n",
    "    def __init__(self,name,salary,programming_language):\n",
    "        super().__init__(name,salary)      \n",
    "        self.programming_language=programming_language\n",
    "    "
   ]
  },
  {
   "cell_type": "code",
   "execution_count": 40,
   "id": "6eaf6d56",
   "metadata": {},
   "outputs": [
    {
     "name": "stdout",
     "output_type": "stream",
     "text": [
      "Emp Name is: Rahul\n",
      "Emp salary is: 90000\n",
      "Emp department: HR\n"
     ]
    }
   ],
   "source": [
    "m=Manager(\"Rahul\",90000,\"HR\")\n",
    "print('Emp Name is:', m.name)\n",
    "print('Emp salary is:', m.salary)\n",
    "print('Emp department:', m.department)"
   ]
  },
  {
   "cell_type": "code",
   "execution_count": 41,
   "id": "2c5b0218",
   "metadata": {},
   "outputs": [
    {
     "name": "stdout",
     "output_type": "stream",
     "text": [
      "Developer name is: John\n",
      "salary is: 50000\n",
      "programming language: Java\n"
     ]
    }
   ],
   "source": [
    "d=Developer(\"John\",50000,\"Java\")\n",
    "print('Developer name is:', d.name)\n",
    "print('salary is:', d.salary)\n",
    "print('programming language:', d.programming_language)"
   ]
  },
  {
   "cell_type": "markdown",
   "id": "dc11f855",
   "metadata": {},
   "source": [
    "8. Design a base class called \"Shape\" with attributes like \"colour\" and \"border_width.\"\n",
    "Create derived classes, \"Rectangle\" and \"Circle,\" that inherit from \"Shape\" and add\n",
    "specific attributes like \"length\" and \"width\" for the \"Rectangle\" class and \"radius\" for\n",
    "the \"Circle\" class.\n"
   ]
  },
  {
   "cell_type": "code",
   "execution_count": 42,
   "id": "9d874623",
   "metadata": {},
   "outputs": [],
   "source": [
    "class Shape:\n",
    "    def __init__(self,colour,border_width):\n",
    "        self.colour=colour\n",
    "        self.border_width=border_width\n",
    "        \n",
    "class Rectangle(Shape):\n",
    "    def __init__(self,colour,border_width,length,width):\n",
    "        super().__init__(colour,border_width)\n",
    "        self.length=length\n",
    "        self.width=width\n",
    "        \n",
    "class Circle(Shape):\n",
    "    def __init__(self,colour,border_width,radius):\n",
    "        super().__init__(colour,border_width)\n",
    "        self.radius=radius               "
   ]
  },
  {
   "cell_type": "code",
   "execution_count": 44,
   "id": "5e1a895d",
   "metadata": {},
   "outputs": [
    {
     "name": "stdout",
     "output_type": "stream",
     "text": [
      "Rectangle colour: Orange\n",
      "Rectangle border_width: 12\n",
      "Rectangle length: 25\n",
      "Rectangle width: 8\n"
     ]
    }
   ],
   "source": [
    "r=Rectangle(\"Orange\",12,25,8)\n",
    "print(\"Rectangle colour:\",r.colour)\n",
    "print(\"Rectangle border_width:\",r.border_width)\n",
    "print(\"Rectangle length:\",r.length)\n",
    "print(\"Rectangle width:\",r.width)"
   ]
  },
  {
   "cell_type": "code",
   "execution_count": 46,
   "id": "858cb2f5",
   "metadata": {},
   "outputs": [
    {
     "name": "stdout",
     "output_type": "stream",
     "text": [
      "Circle colour: Blue\n",
      "Circle border_width: 12\n",
      "Circle radius: 4\n"
     ]
    }
   ],
   "source": [
    "c=Circle(\"Blue\",12,4)\n",
    "print(\"Circle colour:\",c.colour)\n",
    "print(\"Circle border_width:\",c.border_width)\n",
    "print(\"Circle radius:\",c.radius)"
   ]
  },
  {
   "cell_type": "markdown",
   "id": "76c9a542",
   "metadata": {},
   "source": [
    "9.Create a base class called \"Device\" with attributes like \"brand\" and \"model.\" Derive\n",
    "two classes, \"Phone\" and \"Tablet,\" from \"Device.\" Add specific attributes like\n",
    "\"screen_size\" for the \"Phone\" class and \"battery_capacity\" for the \"Tablet\" class.\n"
   ]
  },
  {
   "cell_type": "code",
   "execution_count": 50,
   "id": "9ef6e342",
   "metadata": {},
   "outputs": [],
   "source": [
    "class Device:\n",
    "    def __init__(self,brand,model):\n",
    "        self.brand=brand\n",
    "        self.model=model\n",
    "        \n",
    "class Phone(Device):\n",
    "    def __init__(self,brand,model,screen_size):\n",
    "        super().__init__(brand,model)\n",
    "        self.screen_size=screen_size\n",
    "        \n",
    "class Tablet(Device):\n",
    "    def __init__(self,brand,model,battery_capacity):\n",
    "        super().__init__(brand,model)\n",
    "        self.battery_capacity=battery_capacity            "
   ]
  },
  {
   "cell_type": "markdown",
   "id": "af8208be",
   "metadata": {},
   "source": [
    "10.Ceate a base class called \"BankAccount\" with attributes like \"account_number\" and\n",
    "\"balance.\" Derive two classes, \"SavingsAccount\" and \"CheckingAccount,\" from\n",
    "\"BankAccount.\" Add specific methods like \"calculate_interest\" for the\n",
    "\"SavingsAccount\" class and \"deduct_fees\" for the \"CheckingAccount\" class.\n"
   ]
  },
  {
   "cell_type": "code",
   "execution_count": 66,
   "id": "695d1bcd",
   "metadata": {},
   "outputs": [],
   "source": [
    "class BankAccount:\n",
    "    def __init__(self,account_number,balance):\n",
    "        self.account_number=account_number\n",
    "        self.balance=balance\n",
    "        \n",
    "class CheckingAccount(BankAccount):\n",
    "    def __init__(self,account_number,balance,amount):\n",
    "        super().__init__(account_number,balance)\n",
    "        self.balance-=amount\n",
    "               \n",
    "    def deduct_fees(self):\n",
    "         print(f\"Account balance in {self.account_number} after fees deduction is {self.balance}\")\n",
    "        \n",
    "class SavingsAccount(BankAccount): \n",
    "    def __init__(self,account_number,balance,interest):    \n",
    "        super().__init__(account_number,balance)\n",
    "        self.balance+=self.balance*(interest)\n",
    "        \n",
    "    def calculate_interest(self):\n",
    "        print(f\"Account balance in {self.account_number} after applied interest is {self.balance}\")\n"
   ]
  },
  {
   "cell_type": "code",
   "execution_count": 67,
   "id": "879e8083",
   "metadata": {},
   "outputs": [
    {
     "name": "stdout",
     "output_type": "stream",
     "text": [
      "Account balance in 987625400 after fees deduction is 9990\n"
     ]
    }
   ],
   "source": [
    "c=CheckingAccount(987625400,10000,10)\n",
    "c.deduct_fees()"
   ]
  },
  {
   "cell_type": "code",
   "execution_count": 68,
   "id": "c14a505e",
   "metadata": {},
   "outputs": [
    {
     "name": "stdout",
     "output_type": "stream",
     "text": [
      "Account balance in 987625400 after applied interest is 10200.0\n"
     ]
    }
   ],
   "source": [
    "s=SavingsAccount(987625400,10000,0.02)\n",
    "s.calculate_interest()"
   ]
  }
 ],
 "metadata": {
  "kernelspec": {
   "display_name": "Python 3 (ipykernel)",
   "language": "python",
   "name": "python3"
  },
  "language_info": {
   "codemirror_mode": {
    "name": "ipython",
    "version": 3
   },
   "file_extension": ".py",
   "mimetype": "text/x-python",
   "name": "python",
   "nbconvert_exporter": "python",
   "pygments_lexer": "ipython3",
   "version": "3.9.7"
  }
 },
 "nbformat": 4,
 "nbformat_minor": 5
}
