{
 "cells": [
  {
   "cell_type": "markdown",
   "id": "82bcddd9",
   "metadata": {},
   "source": [
    "#### 1.\tWhat is the primary goal of Object-Oriented Programming (OOP)?"
   ]
  },
  {
   "cell_type": "markdown",
   "id": "cead0ef1",
   "metadata": {},
   "source": [
    "Object-Oriented Programming or OOPs refers to languages that use objects in programming. \n",
    "Object-oriented programming aims to implement real-world entities like inheritance, hiding, polymorphism, etc in programming.\n",
    "The main aim of OOP is to bind together the data and the functions that operate on them so that no other part of the code can access this data except that function."
   ]
  },
  {
   "cell_type": "markdown",
   "id": "ec29e3f6",
   "metadata": {},
   "source": [
    "#### 2.What is an object in Python?"
   ]
  },
  {
   "cell_type": "markdown",
   "id": "bf6c76a1",
   "metadata": {},
   "source": [
    "An Object is an instance of a Class. When a class is defined, no memory is allocated but when it is instantiated (i.e. an object is created) memory is allocated"
   ]
  },
  {
   "cell_type": "markdown",
   "id": "f5350718",
   "metadata": {},
   "source": [
    "#### 3.What is a class in Python?"
   ]
  },
  {
   "cell_type": "markdown",
   "id": "d4dd15cb",
   "metadata": {},
   "source": [
    "A class is a user-defined data type.\n",
    "It consists of data members and member functions, which can be accessed and used by creating an instance of that class.\n",
    "It represents the set of properties or methods that are common to all objects of one type."
   ]
  },
  {
   "cell_type": "markdown",
   "id": "28e8971a",
   "metadata": {},
   "source": [
    "#### 4.What are attributes and methods in a class?"
   ]
  },
  {
   "cell_type": "markdown",
   "id": "fff09f73",
   "metadata": {},
   "source": [
    "Attributes are the variables defined in a class.\n",
    "Methods are the functions defined in a class."
   ]
  },
  {
   "cell_type": "markdown",
   "id": "1359a455",
   "metadata": {},
   "source": [
    "#### 5.What is the difference between class variables and instance variables in Python?"
   ]
  },
  {
   "cell_type": "markdown",
   "id": "9d4230ac",
   "metadata": {},
   "source": [
    "Class variables are global within the class and can be referenced using class name and instance.\n",
    "Instance variables are defined with self prefix and can be accessed by objects of the class.\n",
    "Below class emp shows dept as class variable, name and age as instance variable."
   ]
  },
  {
   "cell_type": "code",
   "execution_count": 4,
   "id": "ecfbee6d",
   "metadata": {},
   "outputs": [],
   "source": [
    "class Emp:\n",
    "    dept='HR' #Class variable\n",
    "    def __init__(self,name,age):\n",
    "        self.name=name  #instance variable\n",
    "        self.age=age    #instance variable"
   ]
  },
  {
   "cell_type": "code",
   "execution_count": 5,
   "id": "8c11c882",
   "metadata": {},
   "outputs": [
    {
     "data": {
      "text/plain": [
       "'HR'"
      ]
     },
     "execution_count": 5,
     "metadata": {},
     "output_type": "execute_result"
    }
   ],
   "source": [
    "Emp.dept"
   ]
  },
  {
   "cell_type": "code",
   "execution_count": 9,
   "id": "8d2798ed",
   "metadata": {},
   "outputs": [
    {
     "name": "stdout",
     "output_type": "stream",
     "text": [
      "HR 29 Shourya\n"
     ]
    }
   ],
   "source": [
    "e=Emp('Shourya',29)\n",
    "print(e.dept,e.age,e.name)"
   ]
  },
  {
   "cell_type": "markdown",
   "id": "dd1fd0c1",
   "metadata": {},
   "source": [
    "#### 6.What is the purpose of the self parameter in Python class methods?"
   ]
  },
  {
   "cell_type": "markdown",
   "id": "2c2ef7d1",
   "metadata": {},
   "source": [
    "The self is used to represent the instance of the class. With this keyword, you can access the attributes and methods of the class in python.\n",
    "It binds the attributes with the given arguments"
   ]
  },
  {
   "cell_type": "markdown",
   "id": "e20d8288",
   "metadata": {},
   "source": [
    "#### 7.\tFor a library management system, you have to design the \"Book\" class with OOP principles in mind. The “Book” class will have following attributes:\n",
    "a.\ttitle: Represents the title of the book.\n",
    "b.\tauthor: Represents the author(s) of the book.\n",
    "c.\tisbn: Represents the ISBN (International Standard Book Number) of the book.\n",
    "d.\tpublication_year: Represents the year of publication of the book.\n",
    "e.\tavailable_copies: Represents the number of copies available for checkout. The class will also include the following methods:\n",
    "a.\tcheck_out(self): Decrements the available copies by one if there are copies available for checkout.\n",
    "b.\treturn_book(self): Increments the available copies by one when a book is returned.\n",
    "c.\tdisplay_book_info(self): Displays the information about the book, including its attributes and the number of available copies.\n"
   ]
  },
  {
   "cell_type": "code",
   "execution_count": 39,
   "id": "daa59ade",
   "metadata": {},
   "outputs": [],
   "source": [
    "class Book:\n",
    "    def __init__(self,title,author,isbn,publication_year):\n",
    "        self.title=title\n",
    "        self.author=author\n",
    "        self.isbn=isbn\n",
    "        self.publication_year=publication_year\n",
    "        self.available_copies=10\n",
    "        \n",
    "    def check_out(self): \n",
    "        if self.available_copies>0:\n",
    "            self.available_copies-=1\n",
    "        print(\"available_copies after check out are: \",self.available_copies )    \n",
    "            \n",
    "    def return_book(self):\n",
    "        self.available_copies+=1\n",
    "        print(\"available_copies after book return are: \",self.available_copies )  \n",
    "        \n",
    "    def display_book_info(self):    \n",
    "        print(f'Available book details are\\ntitle:{self.title}\\nauthor:{self.author}\\nisbn:{self.isbn}\\npublication_year:{self.publication_year}\\navailable_copies:{self.available_copies}')\n",
    "        \n",
    "        "
   ]
  },
  {
   "cell_type": "code",
   "execution_count": 40,
   "id": "4dfd2d6a",
   "metadata": {},
   "outputs": [],
   "source": [
    "b=Book('Harry Potter','J K Rowling',24343,'1980')"
   ]
  },
  {
   "cell_type": "code",
   "execution_count": 48,
   "id": "f398d459",
   "metadata": {},
   "outputs": [
    {
     "name": "stdout",
     "output_type": "stream",
     "text": [
      "Available book details are\n",
      "title:Harry Potter\n",
      "author:J K Rowling\n",
      "isbn:24343\n",
      "publication_year:1980\n",
      "available_copies:8\n"
     ]
    }
   ],
   "source": [
    "b.display_book_info()"
   ]
  },
  {
   "cell_type": "code",
   "execution_count": 46,
   "id": "0e547fbc",
   "metadata": {},
   "outputs": [
    {
     "name": "stdout",
     "output_type": "stream",
     "text": [
      "available_copies after check out are:  8\n"
     ]
    }
   ],
   "source": [
    "b.check_out()"
   ]
  },
  {
   "cell_type": "code",
   "execution_count": 43,
   "id": "ee998f4e",
   "metadata": {},
   "outputs": [
    {
     "name": "stdout",
     "output_type": "stream",
     "text": [
      "available_copies after book return are:  10\n"
     ]
    }
   ],
   "source": [
    "b.return_book()"
   ]
  },
  {
   "cell_type": "markdown",
   "id": "2ebd5322",
   "metadata": {},
   "source": [
    "#### 8.\tFor a ticket booking system, you have to design the \"Ticket\" class with OOP principles in mind. The “Ticket” class should have the following attributes:\n",
    "a.\tticket_id: Represents the unique identifier for the ticket.\n",
    "b.\tevent_name: Represents the name of the event.\n",
    "c.\tevent_date: Represents the date of the event.\n",
    "d.\tvenue: Represents the venue of the event.\n",
    "e.\tseat_number: Represents the seat number associated with the ticket.\n",
    "f.\tprice: Represents the price of the ticket.\n",
    "g.\tis_reserved: Represents the reservation status of the ticket. The class also includes the following methods:\n",
    "a.\treserve_ticket(self): Marks the ticket as reserved if it is not already reserved.\n",
    "b.\tcancel_reservation(self): Cancels the reservation of the ticket if it is already reserved.\n",
    "c.\tdisplay_ticket_info(self): Displays the information about the ticket, including its attributes and reservation status.\n"
   ]
  },
  {
   "cell_type": "code",
   "execution_count": 67,
   "id": "7bae7edd",
   "metadata": {},
   "outputs": [],
   "source": [
    "class Ticket:\n",
    "    def __init__(self,ticket_id,event_name,event_date,venue,seat_number,price):\n",
    "        self.ticket_id=ticket_id\n",
    "        self.event_name=event_name\n",
    "        self.event_date=event_date\n",
    "        self.venue=venue\n",
    "        self.seat_number=seat_number\n",
    "        self.price=price\n",
    "        self.is_reserved=0\n",
    "        \n",
    "    def reserve_ticket(self):\n",
    "        if self.is_reserved==0:\n",
    "            self.is_reserved=1\n",
    "            print(\"Reservation done\")\n",
    "        else:\n",
    "            print(\"Reservation full\")\n",
    "        \n",
    "    def cancel_reservation(self):\n",
    "        if self.is_reserved==1:\n",
    "            self.is_reserved=0\n",
    "            print(\"Canceled reservation\")\n",
    "            \n",
    "    def display_ticket_info(self):\n",
    "        print(f'Ticket details are: \\nticket_id:{self.ticket_id}\\nevent_name:{self.event_name}\\nevent_date:{self.event_date}\\nvenue:{self.venue}\\nseat_number:{self.seat_number}\\nprice:{self.price}\\nis_reserved:{self.is_reserved}')\n",
    "            \n",
    "            \n",
    "    "
   ]
  },
  {
   "cell_type": "code",
   "execution_count": 68,
   "id": "e28a4625",
   "metadata": {},
   "outputs": [],
   "source": [
    "t=Ticket(123434,'Diwali','09/11/2021','Delhi',34,1200)"
   ]
  },
  {
   "cell_type": "code",
   "execution_count": 69,
   "id": "aecb4e05",
   "metadata": {},
   "outputs": [
    {
     "name": "stdout",
     "output_type": "stream",
     "text": [
      "Reservation done\n"
     ]
    }
   ],
   "source": [
    "t.reserve_ticket()"
   ]
  },
  {
   "cell_type": "code",
   "execution_count": 70,
   "id": "586725ef",
   "metadata": {},
   "outputs": [
    {
     "name": "stdout",
     "output_type": "stream",
     "text": [
      "Canceled reservation\n"
     ]
    }
   ],
   "source": [
    "t.cancel_reservation()"
   ]
  },
  {
   "cell_type": "code",
   "execution_count": 71,
   "id": "884eb373",
   "metadata": {},
   "outputs": [
    {
     "name": "stdout",
     "output_type": "stream",
     "text": [
      "Ticket details are: \n",
      "ticket_id:123434\n",
      "event_name:Diwali\n",
      "event_date:09/11/2021\n",
      "venue:Delhi\n",
      "seat_number:34\n",
      "price:1200\n",
      "is_reserved:0\n"
     ]
    }
   ],
   "source": [
    "t.display_ticket_info()"
   ]
  },
  {
   "cell_type": "markdown",
   "id": "4c3a87ab",
   "metadata": {},
   "source": [
    "9.You are creating a shopping cart for an e-commerce website. Using OOP to model\n",
    "the \"ShoppingCart\" functionality the class should contain following attributes and\n",
    "methods:\n",
    "a. items: Represents the list of items in the shopping cart.\n",
    "The class also includes the following methods:\n",
    "a. add_item(self, item): Adds an item to the shopping cart by appending it to the\n",
    "list of items.\n",
    "b. remove_item(self, item): Removes an item from the shopping cart if it exists in\n",
    "the list.\n",
    "c. view_cart(self): Displays the items currently present in the shopping cart.\n",
    "d. clear_cart(self): Clears all items from the shopping cart by reassigning an\n",
    "empty list to the items attribute.\n"
   ]
  },
  {
   "cell_type": "code",
   "execution_count": 43,
   "id": "39b4d1f6",
   "metadata": {},
   "outputs": [],
   "source": [
    "class ShoppingCart:\n",
    "    def __init__(self):\n",
    "        self.items=[]\n",
    "        \n",
    "    def add_item(self,item):\n",
    "        self.items.append(item)\n",
    "        print(f\"{item} added to the shopping list\")\n",
    "        \n",
    "    def remove_item(self,item):\n",
    "        if item in self.items:\n",
    "            self.items.remove(item)\n",
    "            print(f\"{item} removed from the shopping list\")\n",
    "        else:\n",
    "            print(\"Item not in the list\")\n",
    "\n",
    "    def view_cart(self):\n",
    "        print(\"Items in list\",self.items)\n",
    "        \n",
    "    def clear_cart(self):\n",
    "         del self.items[:]"
   ]
  },
  {
   "cell_type": "code",
   "execution_count": 44,
   "id": "abf3ce7d",
   "metadata": {},
   "outputs": [],
   "source": [
    "sc=ShoppingCart()"
   ]
  },
  {
   "cell_type": "code",
   "execution_count": 45,
   "id": "1480d418",
   "metadata": {},
   "outputs": [
    {
     "name": "stdout",
     "output_type": "stream",
     "text": [
      "Banana added to the shopping list\n",
      "apple added to the shopping list\n",
      "Horlicks added to the shopping list\n",
      "Dark Chocolate added to the shopping list\n"
     ]
    }
   ],
   "source": [
    "sc.add_item(\"Banana\")\n",
    "sc.add_item(\"apple\")\n",
    "sc.add_item(\"Horlicks\")\n",
    "sc.add_item(\"Dark Chocolate\")"
   ]
  },
  {
   "cell_type": "code",
   "execution_count": 46,
   "id": "82fd57a1",
   "metadata": {},
   "outputs": [
    {
     "name": "stdout",
     "output_type": "stream",
     "text": [
      "Item not in the list\n"
     ]
    }
   ],
   "source": [
    "sc.remove_item(\"Orange\")"
   ]
  },
  {
   "cell_type": "code",
   "execution_count": 47,
   "id": "b53cce1b",
   "metadata": {},
   "outputs": [
    {
     "name": "stdout",
     "output_type": "stream",
     "text": [
      "Banana removed from the shopping list\n"
     ]
    }
   ],
   "source": [
    "sc.remove_item(\"Banana\")"
   ]
  },
  {
   "cell_type": "code",
   "execution_count": 48,
   "id": "5ea1cd58",
   "metadata": {},
   "outputs": [
    {
     "name": "stdout",
     "output_type": "stream",
     "text": [
      "Items in list ['apple', 'Horlicks', 'Dark Chocolate']\n"
     ]
    }
   ],
   "source": [
    "sc.view_cart()"
   ]
  },
  {
   "cell_type": "code",
   "execution_count": 49,
   "id": "8f8cf768",
   "metadata": {},
   "outputs": [],
   "source": [
    "sc.clear_cart()"
   ]
  },
  {
   "cell_type": "code",
   "execution_count": 50,
   "id": "eba403de",
   "metadata": {},
   "outputs": [
    {
     "name": "stdout",
     "output_type": "stream",
     "text": [
      "Items in list []\n"
     ]
    }
   ],
   "source": [
    "sc.view_cart()"
   ]
  },
  {
   "cell_type": "markdown",
   "id": "c3fc2906",
   "metadata": {},
   "source": [
    "10.Imagine a school management system. You have to design the \"Student\" class using\n",
    "OOP concepts.The “Student” class has the following attributes:\n",
    "a. name: Represents the name of the student.\n",
    "b. age: Represents the age of the student.\n",
    "c. grade: Represents the grade or class of the student.\n",
    "d. student_id: Represents the unique identifier for the student.\n",
    "e. attendance: Represents the attendance record of the student.\n",
    "The class should also include the following methods:\n",
    "a. update_attendance(self, date, status): Updates the attendance record of the\n",
    "student for a given date with the provided status (e.g., present or absent).\n",
    "b. get_attendance(self): Returns the attendance record of the student.\n",
    "c. get_average_attendance(self): Calculates and returns the average\n",
    "attendance percentage of the student based on their attendance record."
   ]
  },
  {
   "cell_type": "code",
   "execution_count": 118,
   "id": "c8ede01d",
   "metadata": {},
   "outputs": [],
   "source": [
    "class Student:\n",
    "    def __init__(self,name,age,grade,student_id):\n",
    "        self.name=name\n",
    "        self.age=age\n",
    "        self.grade=grade\n",
    "        self.student_id=student_id\n",
    "        self.attendance={}\n",
    "        \n",
    "    def update_attendance(self,date,status):\n",
    "        self.attendance[date]=status\n",
    "        \n",
    "    def get_attendance(self):\n",
    "        print(f\"Attendance record of {self.name}\",self.attendance.items())        \n",
    "    \n",
    "    def get_average_attendance(self):\n",
    "        avg=sum(value == 'present' for value in self.attendance.values())/len(self.attendance)        \n",
    "        print(f\"Average attendance of the student {avg}\")\n",
    "        \n",
    "        "
   ]
  },
  {
   "cell_type": "code",
   "execution_count": 119,
   "id": "4a339d1e",
   "metadata": {},
   "outputs": [],
   "source": [
    "s=Student('Anjali',12,8,8002)"
   ]
  },
  {
   "cell_type": "code",
   "execution_count": 120,
   "id": "a042adaf",
   "metadata": {},
   "outputs": [],
   "source": [
    "s.update_attendance(\"20/06/2023\",\"present\")\n",
    "s.update_attendance(\"20/07/2023\",\"absent\")\n",
    "s.update_attendance(\"07/08/2023\",\"present\")\n",
    "s.update_attendance(\"10/08/2023\",\"absent\")"
   ]
  },
  {
   "cell_type": "code",
   "execution_count": 121,
   "id": "ee86cefb",
   "metadata": {},
   "outputs": [
    {
     "name": "stdout",
     "output_type": "stream",
     "text": [
      "Attendance record of Anjali dict_items([('20/06/2023', 'present'), ('20/07/2023', 'absent'), ('07/08/2023', 'present'), ('10/08/2023', 'absent')])\n"
     ]
    }
   ],
   "source": [
    "s.get_attendance()"
   ]
  },
  {
   "cell_type": "code",
   "execution_count": 122,
   "id": "39f8def5",
   "metadata": {},
   "outputs": [
    {
     "name": "stdout",
     "output_type": "stream",
     "text": [
      "Average attendance of the student 0.5\n"
     ]
    }
   ],
   "source": [
    "s.get_average_attendance()"
   ]
  }
 ],
 "metadata": {
  "kernelspec": {
   "display_name": "Python 3 (ipykernel)",
   "language": "python",
   "name": "python3"
  },
  "language_info": {
   "codemirror_mode": {
    "name": "ipython",
    "version": 3
   },
   "file_extension": ".py",
   "mimetype": "text/x-python",
   "name": "python",
   "nbconvert_exporter": "python",
   "pygments_lexer": "ipython3",
   "version": "3.9.7"
  }
 },
 "nbformat": 4,
 "nbformat_minor": 5
}
